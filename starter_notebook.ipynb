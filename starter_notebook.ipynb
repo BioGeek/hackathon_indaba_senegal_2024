{
 "cells": [
  {
   "cell_type": "markdown",
   "id": "0",
   "metadata": {},
   "source": [
    "# Snakes and Sequences: Senegalese Serpent Venom Sequencing Hackathon\n",
    "\n",
    "<font color=\"red\">[TODO: IMAGE HERE] (note: embed all images into the notebook)</font>\n",
    "\n",
    "Snakes pose a significant danger in Senegal, where encounters with venomous species can lead to severe injury or even death. The diversity and potency of snake venoms in the region present a major public health challenge, with traditional methods of antivenom production often falling short due to the unique and complex nature of these venoms. This is where [tandem mass spectrometry](https://en.wikipedia.org/wiki/Tandem_mass_spectrometry) combined with [_de novo_ peptide sequencing](https://en.wikipedia.org/wiki/De_novo_peptide_sequencing) could potentially play a role.\n",
    "\n",
    "_De novo_ peptide sequencing involves determining the amino acid sequence of peptides from a mass spectrum without prior knowledge of the protein sequence, potentially making it a tool in the fight against snake bites. Unlike traditional database search methods, which rely on existing sequence databases and often fail when encountering novel or highly variable venom components, _de novo_ sequencing provides an unbiased and comprehensive analysis of venom peptides. This approach could potentially allow for the identification of new and unique venom peptides, which is crucial for the development of effective and specific antivenoms.\n",
    "\n",
    "By leveraging mass spectrometry with _de novo_ peptide sequencing, researchers could potentially create tailored antivenoms that are more effective against the diverse snake venom profiles found in Senegal. If successful, This may have the potential not only to improve the chances of survival for snakebite victims but also to enhance the overall public health response to snakebite emergencies. We believe that the ability to rapidly and accurately sequence venom peptides could represent a significant advancement in our efforts to combat the dangers posed by snakes in Senegal and beyond.\n",
    "\n",
    "## The Task: recalibrating model predictions\n",
    "\n",
    "How can we help? In this hackathon we will be improving existing _de novo_ peptide sequencing models. Specifically, we will be looking into recalibration and filtering! Rather than training a large _de novo_ sequencing model from scratch, we will focus on using various techniques to improve the area under the curve (AUC) for the precision-recall graph. Due to high noise, our models are often not super well calibrated.\n",
    "\n",
    "InstaDeep has developed a transformer-based _de novo_ peptide sequencing model **InstaNovo** [[preprint](https://www.biorxiv.org/content/10.1101/2023.08.30.555055v3)][[code](https://github.com/instadeepai/InstaNovo)]. \n",
    "We will provide you with the inputs AND outputs of InstaNovo along with some additional metadata (eg. retention time). The InstaNovo outputs include the top 5 beam predictions along with their model confidences.\n",
    "Your task is to use these inputs and metadata to re-calibrate the confidence measurements and filter out any false positives in order to maximise the AUC!\n",
    "\n",
    "<font color=\"red\">[TODO: INSTANOVO HERE]</font>"
   ]
  },
  {
   "cell_type": "code",
   "execution_count": null,
   "id": "1",
   "metadata": {},
   "outputs": [],
   "source": [
    "import re\n",
    "\n",
    "import matplotlib.pyplot as plt\n",
    "import numpy as np\n",
    "import pandas as pd"
   ]
  },
  {
   "cell_type": "markdown",
   "id": "2",
   "metadata": {},
   "source": [
    "# Introduction to Mass Spectrometry for _De Novo_ Peptide Sequencing\n",
    "Mass spectrometry (MS) is an analytical technique used to measure the mass-to-charge ratio (m/z) of ions. It is widely used in proteomics, especially for _de novo_ sequencing, where the goal is to determine the amino acid sequence of a peptide directly from the mass spectrometric data without prior knowledge of the sequence.\n",
    "\n",
    "## Process Overview:\n",
    "- **Ionization:** The peptide sample is ionized, usually by electrospray ionization (ESI) or matrix-assisted laser desorption/ionization (MALDI), generating charged peptide ions.\n",
    "\n",
    "- **Mass Analysis (MS1):** The ionized peptides are first separated based on their m/z ratios. The resulting spectrum (MS1) shows the m/z values of the precursor ions (the intact peptides).\n",
    "\n",
    "- **Fragmentation:** Selected precursor ions are further fragmented into smaller ions. This fragmentation process is critical for _de novo_ sequencing as it generates the ion fragments needed to determine the peptide sequence.\n",
    "\n",
    "- **Mass Analysis (MS2):** The fragments are analyzed to produce an MS2 spectrum, where the mz_array represents the m/z values of the fragment ions and the intensity_array reflects their abundance.\n",
    "\n",
    "- **_De Novo_ Sequencing:** The MS2 data (mz_array and intensity_array) are used to infer the peptide sequence. By analyzing the differences between the m/z values, the sequence of the peptide can be reconstructed.\n",
    "\n",
    "<font color=\"red\">[TODO: MS OVERVIEW DIAGRAM HERE]</font>"
   ]
  },
  {
   "cell_type": "markdown",
   "id": "3",
   "metadata": {},
   "source": [
    "## _De novo_ sequencing hand example\n",
    "\n",
    "<font color=\"red\">[TODO] Give example here, include explanation of amino acids and their masses</font>"
   ]
  },
  {
   "cell_type": "code",
   "execution_count": null,
   "id": "4",
   "metadata": {},
   "outputs": [],
   "source": [
    "train_df = pd.read_csv(\"data/Train.csv\", na_filter=\"\")\n",
    "test_df = pd.read_csv(\"data/Test.csv\", na_filter=\"\")\n",
    "train_df.head(3)"
   ]
  },
  {
   "cell_type": "markdown",
   "id": "5",
   "metadata": {},
   "source": [
    "## Exploring mass-spectrometry data\n",
    "\n",
    "**To perform _de novo_ sequencing, we require both MS1 and MS2 information:**\n",
    "- From MS1:\n",
    "  - `precursor_mass` - The mass of the full peptide\n",
    "  - `precursor_mz` - The mass-to-charge of the full peptide\n",
    "  - `precursor_charge` - The charge of the peptide\n",
    "- From MS2:\n",
    "  - `mz_array` - The mass-to-charge value of each peak (x-axis)\n",
    "  - `intensity_array` - The abundance of each peak (y-axis)\n",
    "\n",
    "**Additional information:**\n",
    "- `retention_time` - The time (in minutes) it took for the peptide to elute from the HPLC\n",
    "- `exp_id` - The ID of the experiment, may be used to normalise retention time across experiments\n",
    "\n",
    "**Model outputs:**\n",
    "- `preds_beam_0` - The most confident predicted peptide\n",
    "- `log_probs_beam_0` - The log-probability under the model for the predicted peptide\n",
    "- `preds_beam_1-4` - The other beam outputs in decreasing order of confidence\n",
    "- `preds_beam_1-4` - The log-probability of the beam outputs in decreasing order of confidence"
   ]
  },
  {
   "cell_type": "markdown",
   "id": "6",
   "metadata": {},
   "source": [
    "### Quick data cleaning\n",
    "\n",
    "This code is used to convert the String format of the mz and intensity arrays into a list of floats\n",
    "\n",
    "_This is caused by saving lists of floats in csv files_"
   ]
  },
  {
   "cell_type": "code",
   "execution_count": null,
   "id": "7",
   "metadata": {},
   "outputs": [],
   "source": [
    "train_df[\"mz_array\"] = train_df[\"mz_array\"].map(\n",
    "    lambda x: list(map(float, re.findall(r\"\\d+\\.\\d*\", x))) if isinstance(x, str) else x\n",
    ")\n",
    "train_df[\"intensity_array\"] = train_df[\"intensity_array\"].map(\n",
    "    lambda x: list(map(float, re.findall(r\"\\d+\\.\\d*\", x))) if isinstance(x, str) else x\n",
    ")\n",
    "test_df[\"mz_array\"] = train_df[\"mz_array\"].map(\n",
    "    lambda x: list(map(float, re.findall(r\"\\d+\\.\\d+\", x))) if isinstance(x, str) else x\n",
    ")\n",
    "test_df[\"intensity_array\"] = train_df[\"intensity_array\"].map(\n",
    "    lambda x: list(map(float, re.findall(r\"\\d+\\.\\d*\", x))) if isinstance(x, str) else x\n",
    ")"
   ]
  },
  {
   "cell_type": "markdown",
   "id": "8",
   "metadata": {},
   "source": [
    "### Plotting a MS2 spectrum\n",
    "\n",
    "We can plot the MS2 spectrum as follows"
   ]
  },
  {
   "cell_type": "code",
   "execution_count": null,
   "id": "9",
   "metadata": {},
   "outputs": [],
   "source": [
    "row = train_df.iloc[0]\n",
    "\n",
    "plt.figure(figsize=(8, 4))\n",
    "plt.stem(\n",
    "    row[\"mz_array\"],\n",
    "    row[\"intensity_array\"] / np.max(row[\"intensity_array\"]),\n",
    "    markerfmt=\"\",\n",
    "    basefmt=\"black\",\n",
    ")\n",
    "plt.xlabel(\"m/z\")\n",
    "plt.ylabel(\"Intensity\")\n",
    "plt.title(f'Experimental MS2 Spectrum of {row[\"target\"]}')\n",
    "plt.show()"
   ]
  },
  {
   "cell_type": "markdown",
   "id": "10",
   "metadata": {},
   "source": [
    "### Comparison to a theoretical spectrum\n",
    "\n",
    "Earlier we mentioned [TODO] that all amino acids have a fixed mass. We can use this to calculate the theoretical spectrum of a given peptide! Let's do this for the predicted peptide.\n",
    "\n",
    "First, we will define some helper functions to calculate the mass of a sequence"
   ]
  },
  {
   "cell_type": "code",
   "execution_count": null,
   "id": "11",
   "metadata": {},
   "outputs": [],
   "source": [
    "# Amino acid masses\n",
    "residue_masses = {\n",
    "    \"G\": 57.021464,\n",
    "    \"A\": 71.037114,\n",
    "    \"S\": 87.032028,\n",
    "    \"P\": 97.052764,\n",
    "    \"V\": 99.068414,\n",
    "    \"T\": 101.047670,\n",
    "    \"C\": 103.009185,\n",
    "    \"L\": 113.084064,\n",
    "    \"I\": 113.084064,\n",
    "    \"N\": 114.042927,\n",
    "    \"D\": 115.026943,\n",
    "    \"Q\": 128.058578,\n",
    "    \"K\": 128.094963,\n",
    "    \"E\": 129.042593,\n",
    "    \"M\": 131.040485,\n",
    "    \"H\": 137.058912,\n",
    "    \"F\": 147.068414,\n",
    "    \"R\": 156.101111,\n",
    "    \"Y\": 163.063329,\n",
    "    \"W\": 186.079313,\n",
    "    # Modifications\n",
    "    \"M(+15.99)\": 147.035400,  # Oxidation\n",
    "    \"C(+57.02)\": 160.030649,  # Cysteine alkylation\n",
    "    \"N(+.98)\": 115.026943,  # Deamidation\n",
    "    \"Q(+.98)\": 129.042594,  # Deamidation\n",
    "    # Phospho modifications\n",
    "    \"S(+79.97)\": 166.998028,  # Phosphorylation + 79.966\n",
    "    \"T(+79.97)\": 181.01367,  # Phosphorylation + 79.966\n",
    "    \"Y(+79.97)\": 243.029329,  # Phosphorylation + 79.966\n",
    "}\n",
    "\n",
    "tokenizer_regex = r\"(\\([^)]+\\))|([A-Z](?:\\([^)]+\\))?)\"\n",
    "\n",
    "PROTON_MASS_AMU = 1.007276\n",
    "H2O_MASS = 18.0106\n",
    "\n",
    "\n",
    "def tokenize(sequence: str) -> list[str]:\n",
    "    \"\"\"Split a peptide represented as a string into a list of residues.\n",
    "\n",
    "    Args:\n",
    "        sequence (str): The peptide to be split.\n",
    "\n",
    "    Returns:\n",
    "        list[str]: The sequence of residues forming the peptide.\n",
    "    \"\"\"\n",
    "    return [\n",
    "        item\n",
    "        for sublist in re.findall(tokenizer_regex, sequence)\n",
    "        for item in sublist\n",
    "        if item\n",
    "    ]\n",
    "\n",
    "\n",
    "def get_sequence_mass(sequence: list[str], charge: int | None) -> float:\n",
    "    \"\"\"Get the mass of a sequence.\n",
    "\n",
    "    Args:\n",
    "        sequence (list[str]):\n",
    "            The residue sequence whose mass to calculate.\n",
    "            All residues must be in the residue set or\n",
    "            this will raise a `KeyError`.\n",
    "        charge (int | None, optional):\n",
    "            Charge of the sequence to calculate the mass.\n",
    "\n",
    "    Returns:\n",
    "        float: The mass of the sequence in Daltons.\n",
    "    \"\"\"\n",
    "    mass = sum([residue_masses[residue] for residue in sequence]) + H2O_MASS\n",
    "    if charge:\n",
    "        mass = (mass / charge) + PROTON_MASS_AMU\n",
    "    return float(mass)"
   ]
  },
  {
   "cell_type": "markdown",
   "id": "12",
   "metadata": {},
   "source": [
    "To find the theoretical spectra, we need to compute the masses of all combinations of the peptide"
   ]
  },
  {
   "cell_type": "code",
   "execution_count": null,
   "id": "13",
   "metadata": {},
   "outputs": [],
   "source": [
    "sequence = row[\"preds_beam_0\"]\n",
    "print(f\"          Sequence: {sequence}\")\n",
    "substrings = [sequence[: i + 1] for i in range(len(sequence))][:-1]\n",
    "reverse_substrings = [sequence[i:] for i in range(len(sequence))][1:]\n",
    "print(\"        Substrings: \" + \", \".join(substrings))\n",
    "print(\"Reverse substrings: \" + \", \".join(reverse_substrings[::-1]))"
   ]
  },
  {
   "cell_type": "code",
   "execution_count": null,
   "id": "14",
   "metadata": {},
   "outputs": [],
   "source": [
    "b_ions = [get_sequence_mass(x, charge=1) for x in substrings]\n",
    "y_ions = [get_sequence_mass(x, charge=1) for x in reverse_substrings]"
   ]
  },
  {
   "cell_type": "code",
   "execution_count": null,
   "id": "15",
   "metadata": {},
   "outputs": [],
   "source": [
    "plt.figure(figsize=(12, 6))\n",
    "\n",
    "plt.stem(\n",
    "    row[\"mz_array\"],\n",
    "    row[\"intensity_array\"] / np.max(row[\"intensity_array\"]),\n",
    "    markerfmt=\"\",\n",
    "    basefmt=\"black\",\n",
    ")\n",
    "plt.stem(\n",
    "    np.array(y_ions),\n",
    "    -np.ones(len(y_ions)),\n",
    "    markerfmt=\"\",\n",
    "    linefmt=\"tab:green\",\n",
    "    basefmt=\"black\",\n",
    ")\n",
    "plt.stem(\n",
    "    np.array(b_ions) - H2O_MASS,\n",
    "    -np.ones(len(b_ions)),\n",
    "    markerfmt=\"\",\n",
    "    linefmt=\"tab:red\",\n",
    "    basefmt=\"black\",\n",
    ")\n",
    "plt.legend([\"Experimental MS2\", \"Theoretical y-ions\", \"Theoretical b-ions\"])\n",
    "plt.title(f\"Experimental MS2 of '{row['target']}'\")\n",
    "plt.show()"
   ]
  },
  {
   "cell_type": "markdown",
   "id": "16",
   "metadata": {},
   "source": [
    "As you can see, the peaks actually line up quite well with the theoretical spectra! The large experimental peak in the middle that doesn't have a corresponding theoretical peak is caused by the MS1 precursor and is generally removed before running InstaNovo.\n",
    "\n",
    "**Hint: If we are able to compare the theoretical spectra to our experimental spectra, perhaps we could use this for filtering? If we predict the wrong peptide, it probably won't look similar to the experimental spectra! Could we do the same for Retention Time?**\n",
    "\n"
   ]
  },
  {
   "cell_type": "markdown",
   "id": "17",
   "metadata": {},
   "source": [
    "### Improved theoretical spectrum with Prosit\n",
    "\n",
    "[TODO]"
   ]
  },
  {
   "cell_type": "markdown",
   "id": "18",
   "metadata": {},
   "source": [
    "## Calculating AUC and improving the curve\n",
    "\n",
    "Below we have included some code to help calculate AUC and plot the precision recall curve"
   ]
  },
  {
   "cell_type": "code",
   "execution_count": null,
   "id": "19",
   "metadata": {},
   "outputs": [],
   "source": [
    "def calculate_auc(targets, preds, log_probs, label=None, plot=True, xlim=0.7):\n",
    "    conf = np.exp(log_probs)\n",
    "    order = conf.argsort()[::-1]\n",
    "    matches = np.array(targets == preds)\n",
    "    matches = matches[order]\n",
    "    conf = conf[order]\n",
    "\n",
    "    csum = np.cumsum(matches)\n",
    "    precision = csum / (np.arange(len(matches)) + 1)\n",
    "    recall = csum / len(matches)\n",
    "\n",
    "    # Calculate AUC\n",
    "    width = recall[1:] - recall[:-1]\n",
    "    height = np.minimum(precision[1:], precision[:-1])\n",
    "    top = np.maximum(precision[1:], precision[:-1])\n",
    "    side = top - height\n",
    "    auc = (width * height).sum() + 0.5 * (side * width).sum()\n",
    "\n",
    "    # Plot\n",
    "    if plot:\n",
    "        if label:\n",
    "            plt.plot(recall, precision, label=f\"{label} (AUC = {auc:.3f})\")\n",
    "        else:\n",
    "            plt.plot(recall, precision, label=f\"AUC = {auc:.3f}\")\n",
    "        plt.xlim(0, xlim)\n",
    "        plt.ylim(0, 1)\n",
    "        plt.xlabel(\"Recall\")\n",
    "        plt.ylabel(\"Precision\")\n",
    "        plt.legend()\n",
    "        plt.grid(True)\n",
    "\n",
    "    return auc"
   ]
  },
  {
   "cell_type": "code",
   "execution_count": null,
   "id": "20",
   "metadata": {},
   "outputs": [],
   "source": [
    "auc = calculate_auc(\n",
    "    train_df[\"target\"], train_df[\"preds_beam_0\"], train_df[\"log_probs_beam_0\"]\n",
    ")\n",
    "print(f\"AUC: {auc:.6f}\\n\")"
   ]
  },
  {
   "cell_type": "markdown",
   "id": "21",
   "metadata": {},
   "source": [
    "The precision-recall curve looks pretty good for `train_df`!\n",
    "\n",
    "_Note: `train_df` is actually a calibration set and our model has never seen these peptides!_\n",
    "\n",
    "We can calculate the AUC plot the precision-recall curve for all five beams. As one might expect, the one with the highest log-probabilities (beam 0) does the best!"
   ]
  },
  {
   "cell_type": "code",
   "execution_count": null,
   "id": "22",
   "metadata": {},
   "outputs": [],
   "source": [
    "for beam in range(5):\n",
    "    auc = calculate_auc(\n",
    "        train_df[\"target\"],\n",
    "        train_df[f\"preds_beam_{beam}\"],\n",
    "        train_df[f\"log_probs_beam_{beam}\"],\n",
    "        label=f\"Beam {beam}\",\n",
    "    )"
   ]
  },
  {
   "cell_type": "markdown",
   "id": "23",
   "metadata": {},
   "source": [
    "As one might expect, the performance gets significantly worse as we try the other beams but there may still be some useful information in them, especially the rank 2 beams (`beam_preds_1`). Perhaps there is some way to select the rank 2 beam if we know the rank 1 beam is incorrect?\n",
    "\n",
    "**Hint: try comparing the theoretical mass of the predicted sequence to the precursor mass!**"
   ]
  },
  {
   "cell_type": "markdown",
   "id": "24",
   "metadata": {},
   "source": [
    "## Filtering on precursor mass\n",
    "\n",
    "Here is a function that can be used to check whether a sequence matches the precursor to some PPM tolerance"
   ]
  },
  {
   "cell_type": "code",
   "execution_count": null,
   "id": "25",
   "metadata": {},
   "outputs": [],
   "source": [
    "# We have to consider isotopes! We will consider 0 to 1, but try using more!\n",
    "max_isotope_error = 1\n",
    "CARBON_MASS_DELTA = 1.00335\n",
    "\n",
    "\n",
    "def _calc_mass_error(\n",
    "    mz_theoretical: float, mz_measured: float, charge: int, isotope: int = 0\n",
    ") -> float:\n",
    "    \"\"\"Calculate the mass error between theoretical and actual mz in ppm.\"\"\"\n",
    "    return float(\n",
    "        (mz_theoretical - (mz_measured - isotope * CARBON_MASS_DELTA / charge))\n",
    "        / mz_measured\n",
    "        * 10**6\n",
    "    )\n",
    "\n",
    "\n",
    "def _mass(seq: str | list[str], charge: int | None = None) -> float:\n",
    "    \"\"\"Calculate a peptide's mass or m/z.\"\"\"\n",
    "    if isinstance(seq, str):\n",
    "        seq = tokenize(seq)\n",
    "    return get_sequence_mass(seq, charge)\n",
    "\n",
    "\n",
    "def matches_precursor(\n",
    "    seq: str | list[str],\n",
    "    prec_mass: float,\n",
    "    prec_charge: int,\n",
    "    prec_tol: int = 50,\n",
    ") -> tuple[bool, list[float]]:\n",
    "    \"\"\"Check if a sequence matches the precursor mass within some tolerance.\"\"\"\n",
    "    seq_mass = _mass(seq, charge=prec_charge)\n",
    "    delta_mass_ppm = [\n",
    "        _calc_mass_error(seq_mass, prec_mass, prec_charge, isotope)\n",
    "        for isotope in range(0, max_isotope_error + 1)\n",
    "    ]\n",
    "    return any(abs(d) < prec_tol for d in delta_mass_ppm), delta_mass_ppm"
   ]
  },
  {
   "cell_type": "markdown",
   "id": "26",
   "metadata": {},
   "source": [
    "We can use this to try and filter our predictions to a tighter tolerance of 20ppm!"
   ]
  },
  {
   "cell_type": "code",
   "execution_count": null,
   "id": "27",
   "metadata": {},
   "outputs": [],
   "source": [
    "train_df_filtered = train_df.copy()\n",
    "precursor_match = np.array(\n",
    "    [\n",
    "        matches_precursor(\n",
    "            row[\"preds_beam_0\"],\n",
    "            row[\"precursor_mz\"],\n",
    "            row[\"precursor_charge\"],\n",
    "            prec_tol=10,\n",
    "        )[0]\n",
    "        if len(row[\"preds_beam_0\"]) > 0\n",
    "        else False\n",
    "        for _, row in train_df_filtered.iterrows()\n",
    "    ]\n",
    ")"
   ]
  },
  {
   "cell_type": "code",
   "execution_count": null,
   "id": "28",
   "metadata": {},
   "outputs": [],
   "source": [
    "# Set the predictions to empty strings and log probabilities to -inf\n",
    "train_df_filtered.loc[~precursor_match, \"preds_beam_0\"] = \"\"\n",
    "train_df_filtered.loc[~precursor_match, \"log_probs_beam_0\"] = -np.inf"
   ]
  },
  {
   "cell_type": "code",
   "execution_count": null,
   "id": "29",
   "metadata": {},
   "outputs": [],
   "source": [
    "auc = calculate_auc(\n",
    "    train_df[\"target\"],\n",
    "    train_df[\"preds_beam_0\"],\n",
    "    train_df[\"log_probs_beam_0\"],\n",
    "    label=\"Original\",\n",
    ")\n",
    "print(f\"Original AUC: {auc:.6f}\\n\")\n",
    "auc = calculate_auc(\n",
    "    train_df_filtered[\"target\"],\n",
    "    train_df_filtered[\"preds_beam_0\"],\n",
    "    train_df_filtered[\"log_probs_beam_0\"],\n",
    "    label=\"Filtered\",\n",
    ")\n",
    "print(f\"Filtered AUC: {auc:.6f}\\n\")\n",
    "plt.ylim([0.6, 1.0]);"
   ]
  },
  {
   "cell_type": "markdown",
   "id": "30",
   "metadata": {},
   "source": [
    "Very small improvement but it works. This is just a proof-of-concept, you should try some other techniques!"
   ]
  },
  {
   "cell_type": "markdown",
   "id": "31",
   "metadata": {},
   "source": [
    "## Creating a submission file\n",
    "\n",
    "Since we now know beam 0 is the best, let's try create a submission file to get a baseline AUC score on the test set!"
   ]
  },
  {
   "cell_type": "code",
   "execution_count": null,
   "id": "32",
   "metadata": {},
   "outputs": [],
   "source": [
    "test_df.head(3)"
   ]
  },
  {
   "cell_type": "markdown",
   "id": "33",
   "metadata": {},
   "source": [
    "In our submission file, we expect you to submit the predicted peptide along with the model confidence.\n",
    "\n",
    "_NOTE: Model confidence is not log probabilities! Use `np.exp()`!_"
   ]
  },
  {
   "cell_type": "code",
   "execution_count": null,
   "id": "34",
   "metadata": {},
   "outputs": [],
   "source": [
    "sub_df = test_df[[\"ID\"]].copy()\n",
    "sub_df[\"target\"] = test_df[\"preds_beam_0\"]\n",
    "sub_df[\"confidence\"] = np.exp(test_df[\"log_probs_beam_0\"])\n",
    "sub_df.head()"
   ]
  },
  {
   "cell_type": "markdown",
   "id": "35",
   "metadata": {},
   "source": [
    "Save to a csv file for uploading to Zindi:"
   ]
  },
  {
   "cell_type": "code",
   "execution_count": null,
   "id": "36",
   "metadata": {},
   "outputs": [],
   "source": [
    "sub_df.to_csv(\"SampleSumbission.csv\", index=False)"
   ]
  }
 ],
 "metadata": {
  "kernelspec": {
   "display_name": "Python 3 (ipykernel)",
   "language": "python",
   "name": "python3"
  },
  "language_info": {
   "codemirror_mode": {
    "name": "ipython",
    "version": 3
   },
   "file_extension": ".py",
   "mimetype": "text/x-python",
   "name": "python",
   "nbconvert_exporter": "python",
   "pygments_lexer": "ipython3",
   "version": "3.10.14"
  }
 },
 "nbformat": 4,
 "nbformat_minor": 5
}
